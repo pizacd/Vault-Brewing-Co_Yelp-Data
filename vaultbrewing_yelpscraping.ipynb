{
 "cells": [
  {
   "cell_type": "code",
   "execution_count": 1,
   "metadata": {},
   "outputs": [],
   "source": [
    "#Importing libraries needed to complete web scraping\n",
    "from bs4 import BeautifulSoup as soup\n",
    "import requests\n",
    "import re"
   ]
  },
  {
   "cell_type": "code",
   "execution_count": 2,
   "metadata": {},
   "outputs": [],
   "source": [
    "#url for desired business. Yelp updated the tags so they need to be updated if it isn't finding the text.\n",
    "url = 'https://www.yelp.com/biz/vault-brewing-yardley'\n",
    "response = requests.get(url)\n",
    "s = soup(response.text,'html.parser')"
   ]
  },
  {
   "cell_type": "code",
   "execution_count": 3,
   "metadata": {},
   "outputs": [
    {
     "data": {
      "text/plain": [
       "200"
      ]
     },
     "execution_count": 3,
     "metadata": {},
     "output_type": "execute_result"
    }
   ],
   "source": [
    "response.status_code #used to confirm whether data can be scraped. 200 indicats that scraping will be accepted."
   ]
  },
  {
   "cell_type": "code",
   "execution_count": 4,
   "metadata": {},
   "outputs": [],
   "source": [
    "num_reviews = int(s.find('p',attrs = {'class':\"lemon--p__373c0__3Qnnj text__373c0__2Kxyz text-color--mid__373c0__jCeOG text-align--left__373c0__2XGa- text-size--large__373c0__3t60B\"}).text.strip(' reviews'))"
   ]
  },
  {
   "cell_type": "code",
   "execution_count": 20,
   "metadata": {},
   "outputs": [
    {
     "name": "stdout",
     "output_type": "stream",
     "text": [
      "568 reviews posted about this restaurant\n"
     ]
    }
   ],
   "source": [
    "print(str(num_reviews)+' reviews posted about this restaurant')\n",
    "url_list = []\n",
    "#creating list of all the urls to call in order to scrape reviews on different pages\n",
    "for i in range(0, num_reviews,20):\n",
    "    url_list.append(url+'?start='+str(i))"
   ]
  },
  {
   "cell_type": "code",
   "execution_count": 6,
   "metadata": {},
   "outputs": [],
   "source": [
    "#part of webpage that highlights the entire review\n",
    "reviews = s.find_all('div',attrs = {'class':\"lemon--div__373c0__1mboc review__373c0__13kpL sidebarActionsHoverTarget__373c0__2kfhE arrange__373c0__2C9bH gutter-2__373c0__1DiLQ grid__373c0__1Pz7f layout-stack-small__373c0__27wVp border-color--default__373c0__3-ifU\"})"
   ]
  },
  {
   "cell_type": "code",
   "execution_count": 8,
   "metadata": {},
   "outputs": [],
   "source": [
    "review = reviews[2]\n",
    "#To protect privacy, Yelp user names have not been included in the file. However, source code is below.\n",
    "#username = review.find('span',attrs = {'class':\"lemon--span__373c0__3997G text__373c0__2pB8f fs-block text-color--inherit__373c0__w_15m text-align--left__373c0__2pnx_ text-weight--bold__373c0__3HYJa\"}).string\n",
    "#print(username)"
   ]
  },
  {
   "cell_type": "code",
   "execution_count": 9,
   "metadata": {},
   "outputs": [],
   "source": [
    "location = review.find('span',attrs = {'class':\"lemon--span__373c0__3997G text__373c0__2Kxyz text-color--normal__373c0__3xep9 text-align--left__373c0__2XGa- text-weight--bold__373c0__1elNz text-size--small__373c0__3NVWO\"}).get_text().strip()"
   ]
  },
  {
   "cell_type": "code",
   "execution_count": 10,
   "metadata": {},
   "outputs": [
    {
     "name": "stdout",
     "output_type": "stream",
     "text": [
      "Philadelphia, PA\n"
     ]
    }
   ],
   "source": [
    "print(location)"
   ]
  },
  {
   "cell_type": "code",
   "execution_count": 11,
   "metadata": {},
   "outputs": [],
   "source": [
    "#getting the rating and doing string manipulation to change the data type to float\n",
    "rating = float(review.select('[aria-label*=rating]')[0]['aria-label'].strip(' star rating'))"
   ]
  },
  {
   "cell_type": "code",
   "execution_count": 12,
   "metadata": {},
   "outputs": [
    {
     "name": "stdout",
     "output_type": "stream",
     "text": [
      "3.0\n"
     ]
    }
   ],
   "source": [
    "print(rating)"
   ]
  },
  {
   "cell_type": "code",
   "execution_count": 13,
   "metadata": {},
   "outputs": [
    {
     "name": "stdout",
     "output_type": "stream",
     "text": [
      "6/21/2020\n"
     ]
    }
   ],
   "source": [
    "#Extracting the date the review was posted on Yelp\n",
    "date = review.find('span',attrs = {'class':\"lemon--span__373c0__3997G text__373c0__2Kxyz text-color--mid__373c0__jCeOG text-align--left__373c0__2XGa-\"}).get_text()\n",
    "print(date)"
   ]
  },
  {
   "cell_type": "code",
   "execution_count": 14,
   "metadata": {},
   "outputs": [],
   "source": [
    "#Extracting the text of the review\n",
    "content = review.find('p',attrs = {'class':\"lemon--p__373c0__3Qnnj text__373c0__2Kxyz comment__373c0__3EKjH text-color--normal__373c0__3xep9 text-align--left__373c0__2XGa-\"}).text"
   ]
  },
  {
   "cell_type": "code",
   "execution_count": 15,
   "metadata": {},
   "outputs": [
    {
     "data": {
      "text/plain": [
       "\"Food is good, service subpar. We arrived and were told to wear a mask inside when going to the host stand. They weren't enforcing this, and most people weren't even wearing a mask. Whatever, but if you are going to have a rule, please enforce it. We were sat at our table, given one paper menu to share amongst the whole table of 6. Who knows if it was a new menu. It felt damp. Doesn't that defeat the purpose of a reusable menu? So everyone can have their own and toss it out after?Service was so slow, no water refills, waitress would leave before we could even ask for extra napkins and water.The duck and apple pizza was excellent. I did enjoy the pork belly fingerling fries as well. I enjoyed my blackberry drip beer, although I tasted none of the flavors noted.\""
      ]
     },
     "execution_count": 15,
     "metadata": {},
     "output_type": "execute_result"
    }
   ],
   "source": [
    "content"
   ]
  },
  {
   "cell_type": "code",
   "execution_count": 17,
   "metadata": {},
   "outputs": [
    {
     "name": "stdout",
     "output_type": "stream",
     "text": [
      "finished page 1 of 29\n",
      "finished page 2 of 29\n",
      "finished page 3 of 29\n",
      "finished page 4 of 29\n",
      "finished page 5 of 29\n",
      "finished page 6 of 29\n",
      "finished page 7 of 29\n",
      "finished page 8 of 29\n",
      "finished page 9 of 29\n",
      "finished page 10 of 29\n",
      "finished page 11 of 29\n",
      "finished page 12 of 29\n",
      "finished page 13 of 29\n",
      "finished page 14 of 29\n",
      "finished page 15 of 29\n",
      "finished page 16 of 29\n",
      "finished page 17 of 29\n",
      "finished page 18 of 29\n",
      "finished page 19 of 29\n",
      "finished page 20 of 29\n",
      "finished page 21 of 29\n",
      "finished page 22 of 29\n",
      "finished page 23 of 29\n",
      "finished page 24 of 29\n",
      "finished page 25 of 29\n",
      "finished page 26 of 29\n",
      "finished page 27 of 29\n",
      "finished page 28 of 29\n",
      "finished page 29 of 29\n"
     ]
    }
   ],
   "source": [
    "import csv\n",
    "import time\n",
    "import random\n",
    "\n",
    "def scrape_single_page(reviews, csvwriter):\n",
    "    for review in reviews:\n",
    "        dic = {}\n",
    "        #Code copied from previous steps\n",
    "        #username = review.find('span',attrs = {'class':\"lemon--span__373c0__3997G text__373c0__2pB8f fs-block text-color--inherit__373c0__w_15m text-align--left__373c0__2pnx_ text-weight--bold__373c0__3HYJa\"}).string\n",
    "        try:\n",
    "            location = review.find('span',attrs = {'class':\"lemon--span__373c0__3997G text__373c0__2Kxyz text-color--normal__373c0__3xep9 text-align--left__373c0__2XGa- text-weight--bold__373c0__1elNz text-size--small__373c0__3NVWO\"}).get_text().strip()  \n",
    "        except:\n",
    "            location = ''\n",
    "        date = review.find('span',attrs = {'class':\"lemon--span__373c0__3997G text__373c0__2Kxyz text-color--mid__373c0__jCeOG text-align--left__373c0__2XGa-\"}).get_text()\n",
    "        rating = float(review.select('[aria-label*=rating]')[0]['aria-label'].strip(' star rating'))\n",
    "        content = review.find('p',attrs = {'class':\"lemon--p__373c0__3Qnnj text__373c0__2Kxyz comment__373c0__3EKjH text-color--normal__373c0__3xep9 text-align--left__373c0__2XGa-\"}).text\n",
    "        #Assign Values to the dictionary\n",
    "        #dic['username']=username Commented out to protect yelp user privacy\n",
    "        dic['location']=location\n",
    "        dic['date'] = date\n",
    "        dic['rating'] = rating\n",
    "        dic['content']=content\n",
    "        review_writer.writerow(dic.values())\n",
    "header = ['Location','Date','Rating','Content']\n",
    "with open('vaultbrewing.csv','w',encoding = 'utf-8') as csvfile:\n",
    "    review_writer = csv.writer(csvfile)\n",
    "    review_writer.writerow(header)\n",
    "    for index, url in enumerate(url_list):\n",
    "        response = requests.get(url).text\n",
    "        s = soup(response, 'html.parser')\n",
    "        reviews = s.find_all('div',attrs = {'class':\"lemon--div__373c0__1mboc review__373c0__13kpL sidebarActionsHoverTarget__373c0__2kfhE arrange__373c0__2C9bH gutter-2__373c0__1DiLQ grid__373c0__1Pz7f layout-stack-small__373c0__27wVp border-color--default__373c0__3-ifU\"})        \n",
    "        scrape_single_page(reviews, review_writer)\n",
    "        #Random sleep to avoid getting banned from the server\n",
    "        time.sleep(random.randint(1,5))\n",
    "        #log the progress\n",
    "        print('finished page '+str(index+1) + ' of '+ str(len(url_list)))"
   ]
  }
 ],
 "metadata": {
  "kernelspec": {
   "display_name": "Python 3",
   "language": "python",
   "name": "python3"
  },
  "language_info": {
   "codemirror_mode": {
    "name": "ipython",
    "version": 3
   },
   "file_extension": ".py",
   "mimetype": "text/x-python",
   "name": "python",
   "nbconvert_exporter": "python",
   "pygments_lexer": "ipython3",
   "version": "3.7.0"
  }
 },
 "nbformat": 4,
 "nbformat_minor": 2
}
