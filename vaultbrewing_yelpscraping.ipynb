{
 "cells": [
  {
   "cell_type": "code",
   "execution_count": 1,
   "metadata": {},
   "outputs": [],
   "source": [
    "from bs4 import BeautifulSoup as soup\n",
    "import requests\n",
    "import re"
   ]
  },
  {
   "cell_type": "code",
   "execution_count": 2,
   "metadata": {},
   "outputs": [],
   "source": [
    "#url for desired business\n",
    "url = 'https://www.yelp.com/biz/vault-brewing-yardley'\n",
    "response = requests.get(url)\n",
    "text = soup(response.text,'html.parser')"
   ]
  },
  {
   "cell_type": "code",
   "execution_count": 3,
   "metadata": {},
   "outputs": [
    {
     "data": {
      "text/plain": [
       "200"
      ]
     },
     "execution_count": 3,
     "metadata": {},
     "output_type": "execute_result"
    }
   ],
   "source": [
    "response.status_code #used to confirm whether data can be scraped. 200 indicats that scraping will be accepted."
   ]
  },
  {
   "cell_type": "code",
   "execution_count": 4,
   "metadata": {},
   "outputs": [],
   "source": [
    "num_reviews = 556"
   ]
  },
  {
   "cell_type": "code",
   "execution_count": 5,
   "metadata": {},
   "outputs": [
    {
     "name": "stdout",
     "output_type": "stream",
     "text": [
      "['https://www.yelp.com/biz/vault-brewing-yardley?start=0', 'https://www.yelp.com/biz/vault-brewing-yardley?start=20', 'https://www.yelp.com/biz/vault-brewing-yardley?start=40', 'https://www.yelp.com/biz/vault-brewing-yardley?start=60', 'https://www.yelp.com/biz/vault-brewing-yardley?start=80', 'https://www.yelp.com/biz/vault-brewing-yardley?start=100', 'https://www.yelp.com/biz/vault-brewing-yardley?start=120', 'https://www.yelp.com/biz/vault-brewing-yardley?start=140', 'https://www.yelp.com/biz/vault-brewing-yardley?start=160', 'https://www.yelp.com/biz/vault-brewing-yardley?start=180']\n"
     ]
    }
   ],
   "source": [
    "url_list = []\n",
    "for i in range(0, num_reviews,20):\n",
    "    url_list.append(url+'?start='+str(i))\n",
    "print(url_list[:10])"
   ]
  },
  {
   "cell_type": "code",
   "execution_count": 6,
   "metadata": {},
   "outputs": [],
   "source": [
    "reviews = text.find_all('div',attrs = {'class':\"lemon--div__373c0__1mboc sidebarActionsHoverTarget__373c0__2kfhE arrange__373c0__UHqhV gutter-12__373c0__3kguh grid__373c0__29zUk layout-stack-small__373c0__3cHex border-color--default__373c0__2oFDT\"})"
   ]
  },
  {
   "cell_type": "code",
   "execution_count": 7,
   "metadata": {},
   "outputs": [
    {
     "name": "stdout",
     "output_type": "stream",
     "text": [
      "20\n"
     ]
    }
   ],
   "source": [
    "print(len(reviews))"
   ]
  },
  {
   "cell_type": "code",
   "execution_count": 8,
   "metadata": {},
   "outputs": [],
   "source": [
    "review = reviews[2]\n",
    "#To protect privacy, Yelp user names have not been included in the file. However, source code is below.\n",
    "#username = review.find('span',attrs = {'class':\"lemon--span__373c0__3997G text__373c0__2pB8f fs-block text-color--inherit__373c0__w_15m text-align--left__373c0__2pnx_ text-weight--bold__373c0__3HYJa\"}).string\n",
    "#print(username)"
   ]
  },
  {
   "cell_type": "code",
   "execution_count": 9,
   "metadata": {},
   "outputs": [],
   "source": [
    "location = review.find('span',attrs = {'class':\"lemon--span__373c0__3997G text__373c0__2pB8f text-color--normal__373c0__K_MKN text-align--left__373c0__2pnx_ text-weight--bold__373c0__3HYJa text-size--small__373c0__3SGMi\"}).get_text().strip()"
   ]
  },
  {
   "cell_type": "code",
   "execution_count": 10,
   "metadata": {},
   "outputs": [
    {
     "name": "stdout",
     "output_type": "stream",
     "text": [
      "trenton, NJ\n"
     ]
    }
   ],
   "source": [
    "print(location)"
   ]
  },
  {
   "cell_type": "code",
   "execution_count": 11,
   "metadata": {},
   "outputs": [],
   "source": [
    "rating = float(review.select('[aria-label*=rating]')[0]['aria-label'].strip(' star rating'))"
   ]
  },
  {
   "cell_type": "code",
   "execution_count": 12,
   "metadata": {},
   "outputs": [
    {
     "name": "stdout",
     "output_type": "stream",
     "text": [
      "4.0\n"
     ]
    }
   ],
   "source": [
    "print(rating)"
   ]
  },
  {
   "cell_type": "code",
   "execution_count": 13,
   "metadata": {},
   "outputs": [
    {
     "name": "stdout",
     "output_type": "stream",
     "text": [
      "10/27/2019\n"
     ]
    }
   ],
   "source": [
    "date = review.find('span',attrs = {'class':\"lemon--span__373c0__3997G text__373c0__2pB8f text-color--mid__373c0__3G312 text-align--left__373c0__2pnx_\"}).get_text()\n",
    "print(date)"
   ]
  },
  {
   "cell_type": "code",
   "execution_count": 14,
   "metadata": {},
   "outputs": [],
   "source": [
    "content = review.find('p',attrs = {'class':\"lemon--p__373c0__3Qnnj text__373c0__2pB8f comment__373c0__3EKjH text-color--normal__373c0__K_MKN text-align--left__373c0__2pnx_\"}).text"
   ]
  },
  {
   "cell_type": "code",
   "execution_count": 15,
   "metadata": {},
   "outputs": [
    {
     "data": {
      "text/plain": [
       "\"This restaurant/bar really reminds me of my old stomping grounds in Haddon Township NJ and especially a restaurant I used to frequent called Keg and Kitchen. This restaurant is located in an old bank building, hence the name. It definitely has an interesting interior, there is also outdoor seating and more traditional seating outside the vault area. I hear it gets pretty busy at prime bar hours, however we came here around 5 pm on a Thursday evening and there was ample seating available both indoors and out. I would think it's best to come here with a group of people as they had big platters for $17-$20 that could feed probably 4-5 people and the food looked really good. They also had a really nice selection of seasonal craft beers. We got the mushroom pizza and waffle grilled cheese. The crust of the mushroom pizza was soft on the inside and crispy on the outside, just right. Keg and Kitchen makes the same pizza, mushrooms, arugula, and truffle oil, but K&K's tastes a lot better for some reason. I couldn't really put my finger on it. I think it might be the truffle oil but I'm uncertain. The waffle grilled cheese was served with a quarter bowl of tomato dipping soup. It was really good. The only thing missing was the crispy toasted flavor. The food was good, but not amazing. Drinks and atmosphere were great. Four stars.\""
      ]
     },
     "execution_count": 15,
     "metadata": {},
     "output_type": "execute_result"
    }
   ],
   "source": [
    "content"
   ]
  },
  {
   "cell_type": "code",
   "execution_count": 16,
   "metadata": {},
   "outputs": [
    {
     "name": "stdout",
     "output_type": "stream",
     "text": [
      "finished page 1 of 28\n",
      "finished page 2 of 28\n",
      "finished page 3 of 28\n",
      "finished page 4 of 28\n",
      "finished page 5 of 28\n",
      "finished page 6 of 28\n",
      "finished page 7 of 28\n",
      "finished page 8 of 28\n",
      "finished page 9 of 28\n",
      "finished page 10 of 28\n",
      "finished page 11 of 28\n",
      "finished page 12 of 28\n",
      "finished page 13 of 28\n",
      "finished page 14 of 28\n",
      "finished page 15 of 28\n",
      "finished page 16 of 28\n",
      "finished page 17 of 28\n",
      "finished page 18 of 28\n",
      "finished page 19 of 28\n",
      "finished page 20 of 28\n",
      "finished page 21 of 28\n",
      "finished page 22 of 28\n",
      "finished page 23 of 28\n",
      "finished page 24 of 28\n",
      "finished page 25 of 28\n",
      "finished page 26 of 28\n",
      "finished page 27 of 28\n",
      "finished page 28 of 28\n"
     ]
    }
   ],
   "source": [
    "import csv\n",
    "import time\n",
    "import random\n",
    "\n",
    "def scrape_single_page(reviews, csvwriter):\n",
    "    for review in reviews:\n",
    "        dic = {}\n",
    "        #Code copied from previous steps\n",
    "        username = review.find('span',attrs = {'class':\"lemon--span__373c0__3997G text__373c0__2pB8f fs-block text-color--inherit__373c0__w_15m text-align--left__373c0__2pnx_ text-weight--bold__373c0__3HYJa\"}).string\n",
    "        location = review.find('span',attrs = {'class':\"lemon--span__373c0__3997G text__373c0__2pB8f text-color--normal__373c0__K_MKN text-align--left__373c0__2pnx_ text-weight--bold__373c0__3HYJa text-size--small__373c0__3SGMi\"}).get_text().strip()\n",
    "        date = review.find('span',attrs = {'class':\"lemon--span__373c0__3997G text__373c0__2pB8f text-color--mid__373c0__3G312 text-align--left__373c0__2pnx_\"}).get_text()\n",
    "        rating = float(review.select('[aria-label*=rating]')[0]['aria-label'].strip(' star rating'))\n",
    "        content = review.find('p',attrs = {'class':\"lemon--p__373c0__3Qnnj text__373c0__2pB8f comment__373c0__3EKjH text-color--normal__373c0__K_MKN text-align--left__373c0__2pnx_\"}).text\n",
    "        #Assign Values to the dictionary\n",
    "        #dic['username']=username Commented out to protect yelp user privacy\n",
    "        dic['location']=location\n",
    "        dic['date'] = date\n",
    "        dic['rating'] = rating\n",
    "        dic['content']=content\n",
    "        review_writer.writerow(dic.values())\n",
    "with open('vaultbrewing.csv','w',encoding = 'utf-8') as csvfile:\n",
    "    review_writer = csv.writer(csvfile)\n",
    "    for index, url in enumerate(url_list):\n",
    "        response = requests.get(url).text\n",
    "        s = soup(response, 'html.parser')\n",
    "        reviews = s.find_all('div',attrs = {'class':\"lemon--div__373c0__1mboc sidebarActionsHoverTarget__373c0__2kfhE arrange__373c0__UHqhV gutter-12__373c0__3kguh grid__373c0__29zUk layout-stack-small__373c0__3cHex border-color--default__373c0__2oFDT\"})\n",
    "        scrape_single_page(reviews, review_writer)\n",
    "        #Random sleep to avoid getting banned from the server\n",
    "        time.sleep(random.randint(1,5))\n",
    "        #log the progress\n",
    "        print('finished page '+str(index+1) + ' of '+ str(len(url_list)))"
   ]
  },
  {
   "cell_type": "code",
   "execution_count": null,
   "metadata": {},
   "outputs": [],
   "source": []
  }
 ],
 "metadata": {
  "kernelspec": {
   "display_name": "Python 3",
   "language": "python",
   "name": "python3"
  },
  "language_info": {
   "codemirror_mode": {
    "name": "ipython",
    "version": 3
   },
   "file_extension": ".py",
   "mimetype": "text/x-python",
   "name": "python",
   "nbconvert_exporter": "python",
   "pygments_lexer": "ipython3",
   "version": "3.7.0"
  }
 },
 "nbformat": 4,
 "nbformat_minor": 2
}
